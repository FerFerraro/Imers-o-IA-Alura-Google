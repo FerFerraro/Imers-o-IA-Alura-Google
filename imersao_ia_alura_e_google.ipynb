{
  "nbformat": 4,
  "nbformat_minor": 0,
  "metadata": {
    "colab": {
      "provenance": [],
      "authorship_tag": "ABX9TyPmnvBSravqIPz7+5uy7yBG",
      "include_colab_link": true
    },
    "kernelspec": {
      "name": "python3",
      "display_name": "Python 3"
    },
    "language_info": {
      "name": "python"
    }
  },
  "cells": [
    {
      "cell_type": "markdown",
      "metadata": {
        "id": "view-in-github",
        "colab_type": "text"
      },
      "source": [
        "<a href=\"https://colab.research.google.com/github/FerFerraro/Imersao_IA_Alura_e_Google/blob/main/imersao_ia_alura_e_google.ipynb\" target=\"_parent\"><img src=\"https://colab.research.google.com/assets/colab-badge.svg\" alt=\"Open In Colab\"/></a>"
      ]
    },
    {
      "cell_type": "markdown",
      "source": [
        "<<-SISTEMA DE ORIENTAÇÃO PARA LAUDOS DE EXAMES RADIOLÓGICO->>\n",
        "\n",
        "*Aplicação utilizada apenas para auxiliar o Médico na prescrição do laudo dos exames radiológicos, não utilizar as respostas desta aplicação sem a aprovação de um profissional.\n",
        "\n"
      ],
      "metadata": {
        "id": "PoroefsH744A"
      }
    },
    {
      "cell_type": "code",
      "source": [
        "!pip install -q -U google-generativeai"
      ],
      "metadata": {
        "id": "AFsKOVX_RULG"
      },
      "execution_count": null,
      "outputs": []
    },
    {
      "cell_type": "code",
      "source": [
        "!pip install -q -U google-generativeai google-cloud-aiplatform"
      ],
      "metadata": {
        "colab": {
          "base_uri": "https://localhost:8080/"
        },
        "id": "HVcFxZTn1fOS",
        "outputId": "9fb44fec-ffe2-4fa1-e81a-0b0edec97bd3"
      },
      "execution_count": null,
      "outputs": [
        {
          "output_type": "stream",
          "name": "stdout",
          "text": [
            "\u001b[2K     \u001b[90m━━━━━━━━━━━━━━━━━━━━━━━━━━━━━━━━━━━━━━━━\u001b[0m \u001b[32m5.0/5.0 MB\u001b[0m \u001b[31m19.3 MB/s\u001b[0m eta \u001b[36m0:00:00\u001b[0m\n",
            "\u001b[?25h"
          ]
        }
      ]
    },
    {
      "cell_type": "code",
      "source": [
        "import google.generativeai as genai\n",
        "from google.colab import files\n",
        "import cv2\n",
        "import io\n",
        "import base64"
      ],
      "metadata": {
        "id": "SYqbLWshy4aO"
      },
      "execution_count": null,
      "outputs": []
    },
    {
      "cell_type": "code",
      "source": [
        "GOOGLE_API_KEY = \"MY_API_KEY\"\n",
        "client = genai.configure(api_key=GOOGLE_API_KEY)"
      ],
      "metadata": {
        "id": "16BQbkY1y6N2"
      },
      "execution_count": null,
      "outputs": []
    },
    {
      "cell_type": "markdown",
      "source": [
        "Adcione o exame que pretente ter um laudo premliminar no formato de imagem:"
      ],
      "metadata": {
        "id": "QS_nOmccQUbv"
      }
    },
    {
      "cell_type": "code",
      "source": [
        "#Adicionando a imagem\n",
        "uploaded = files.upload()\n",
        "file_name = next(iter(uploaded))"
      ],
      "metadata": {
        "id": "HMtpxVupy_7l"
      },
      "execution_count": null,
      "outputs": []
    },
    {
      "cell_type": "code",
      "source": [
        "#Convertendo a imagem upada para um formato que o Gemini reconheça\n",
        "img = cv2.imread(file_name)\n",
        "_, encoded_image = cv2.imencode('.jpg', img)\n",
        "img_base64 = base64.b64encode(encoded_image.tobytes()).decode(\"utf-8\")"
      ],
      "metadata": {
        "id": "1LqCyWbRzC41"
      },
      "execution_count": null,
      "outputs": []
    },
    {
      "cell_type": "code",
      "source": [
        "#Solicitando o modelo\n",
        "model = genai.GenerativeModel(model_name=\"gemini-1.5-pro-latest\")"
      ],
      "metadata": {
        "id": "pjpt-eIqzF2V"
      },
      "execution_count": null,
      "outputs": []
    },
    {
      "cell_type": "code",
      "source": [
        "# Preparar a requisição para o Gemini Pro\n",
        "prompt = \"Obtenha um Laudo preliminar desta imagem.\"\n",
        "response = model.generate_content([\n",
        "    {\"text\": \"Descreva esta imagem.\"},\n",
        "    {\"image\": {\"data\": img_base64}}  # Adicione a imagem base64 aqui\n",
        "])"
      ],
      "metadata": {
        "id": "v9f_oTw9zIdj"
      },
      "execution_count": null,
      "outputs": []
    },
    {
      "cell_type": "code",
      "source": [
        "laudo = response.text(0)\n",
        "print(\"Laudo:/n\")\n",
        "print(laudo)"
      ],
      "metadata": {
        "id": "6wp-037RzLlz"
      },
      "execution_count": null,
      "outputs": []
    },
    {
      "cell_type": "markdown",
      "source": [
        "OBS: Todo resultado obtido a partir desta aplicação não tem valores válidos de um laudo certificado por um Médico especialista."
      ],
      "metadata": {
        "id": "aeNqwIENU1PX"
      }
    }
  ]
}